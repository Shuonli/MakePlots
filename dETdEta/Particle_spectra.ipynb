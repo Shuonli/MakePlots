{
 "cells": [
  {
   "cell_type": "code",
   "execution_count": 1,
   "id": "61ce9108-39a3-4d8d-8e0d-9ebf6bdd8153",
   "metadata": {},
   "outputs": [
    {
     "name": "stdout",
     "output_type": "stream",
     "text": [
      "Welcome to JupyROOT 6.26/06\n"
     ]
    }
   ],
   "source": [
    "import ROOT\n",
    "from ROOT import TCanvas, TFile, TProfile, TNtuple, TH1I, TH1F, TH2F, TH3F, TColor, TEfficiency\n"
   ]
  },
  {
   "cell_type": "code",
   "execution_count": 2,
   "id": "cb387908-1875-4b64-8b37-18b7d17a5655",
   "metadata": {},
   "outputs": [
    {
     "name": "stdout",
     "output_type": "stream",
     "text": [
      "/gpfs/mnt/gpfs02/sphenix/user/egm2153/calib_study/detdeta/analysis\n"
     ]
    }
   ],
   "source": [
    "%cd /sphenix/user/egm2153/calib_study/detdeta/analysis"
   ]
  },
  {
   "cell_type": "code",
   "execution_count": 3,
   "id": "0de0cc80-69cb-44f0-8a8e-c0180a6a015b",
   "metadata": {},
   "outputs": [],
   "source": [
    "f1 = ROOT.TFile.Open(\"HIJINGspectrum.root\")\n",
    "nparth = TH1F(f1.Get(\"hnpart\"))\n",
    "nparth.Rebin(4)\n",
    "nparth.Scale(1.0/(4*nparth.GetEntries()))\n",
    "nparth.SetDirectory(0)\n",
    "protons = [\"hprotonpt_0\", \"hprotonpt_1\", \"hprotonpt_2\", \"hprotonpt_3\", \"hprotonpt_4\"]\n",
    "antiprotons = [\"hprotonbarpt_0\", \"hprotonbarpt_1\", \"hprotonbarpt_2\", \"hprotonbarpt_3\", \"hprotonbarpt_4\"]\n",
    "piplus = [\"hpipluspt_0\", \"hpipluspt_1\", \"hpipluspt_2\", \"hpipluspt_3\", \"hpipluspt_4\"]\n",
    "piminus = [\"hpiminuspt_0\", \"hpiminuspt_1\", \"hpiminuspt_2\", \"hpiminuspt_3\", \"hpiminuspt_4\"]\n",
    "kplus = [\"hkpluspt_0\", \"hkpluspt_1\", \"hkpluspt_2\", \"hkpluspt_3\", \"hkpluspt_4\"]\n",
    "kminus = [\"hkminuspt_0\", \"hkminuspt_1\", \"hkminuspt_2\", \"hkminuspt_3\", \"hkminuspt_4\"]\n",
    "hijing_proton = []\n",
    "for i in range(len(protons)):\n",
    "    hijing_proton.append(ROOT.TH1F(f1.Get(protons[i])))\n",
    "    hijing_proton[i].SetDirectory(0)\n",
    "hijing_antiproton = []\n",
    "for i in range(len(antiprotons)):\n",
    "    hijing_antiproton.append(ROOT.TH1F(f1.Get(antiprotons[i])))\n",
    "    hijing_antiproton[i].SetDirectory(0)\n",
    "hijing_piplus = []\n",
    "for i in range(len(piplus)):\n",
    "    hijing_piplus.append(ROOT.TH1F(f1.Get(piplus[i])))\n",
    "    hijing_piplus[i].SetDirectory(0)\n",
    "hijing_piminus = []\n",
    "for i in range(len(piminus)):\n",
    "    hijing_piminus.append(ROOT.TH1F(f1.Get(piminus[i])))\n",
    "    hijing_piminus[i].SetDirectory(0)\n",
    "hijing_kplus = []\n",
    "for i in range(len(kplus)):\n",
    "    hijing_kplus.append(ROOT.TH1F(f1.Get(kplus[i])))\n",
    "    hijing_kplus[i].SetDirectory(0)\n",
    "hijing_kminus = []\n",
    "for i in range(len(kminus)):\n",
    "    hijing_kminus.append(ROOT.TH1F(f1.Get(kminus[i])))\n",
    "    hijing_kminus[i].SetDirectory(0)\n",
    "f1.Close()"
   ]
  },
  {
   "cell_type": "code",
   "execution_count": 4,
   "id": "3f8bd887-de5e-48ec-9225-8084b415046c",
   "metadata": {},
   "outputs": [],
   "source": [
    "f2 = ROOT.TFile.Open(\"EPOSspectrum.root\")\n",
    "nparte = TH1F(f2.Get(\"hnpart\"))\n",
    "nparte.Rebin(4)\n",
    "nparte.Scale(1.0/(4*nparte.GetEntries()))\n",
    "nparte.SetDirectory(0)\n",
    "protons = [\"hprotonpt_0\", \"hprotonpt_1\", \"hprotonpt_2\", \"hprotonpt_3\", \"hprotonpt_4\"]\n",
    "antiprotons = [\"hprotonbarpt_0\", \"hprotonbarpt_1\", \"hprotonbarpt_2\", \"hprotonbarpt_3\", \"hprotonbarpt_4\"]\n",
    "piplus = [\"hpipluspt_0\", \"hpipluspt_1\", \"hpipluspt_2\", \"hpipluspt_3\", \"hpipluspt_4\"]\n",
    "piminus = [\"hpiminuspt_0\", \"hpiminuspt_1\", \"hpiminuspt_2\", \"hpiminuspt_3\", \"hpiminuspt_4\"]\n",
    "kplus = [\"hkpluspt_0\", \"hkpluspt_1\", \"hkpluspt_2\", \"hkpluspt_3\", \"hkpluspt_4\"]\n",
    "kminus = [\"hkminuspt_0\", \"hkminuspt_1\", \"hkminuspt_2\", \"hkminuspt_3\", \"hkminuspt_4\"]\n",
    "epos_proton = []\n",
    "for i in range(len(protons)):\n",
    "    epos_proton.append(ROOT.TH1F(f2.Get(protons[i])))\n",
    "    epos_proton[i].SetDirectory(0)\n",
    "epos_antiproton = []\n",
    "for i in range(len(antiprotons)):\n",
    "    epos_antiproton.append(ROOT.TH1F(f2.Get(antiprotons[i])))\n",
    "    epos_antiproton[i].SetDirectory(0)\n",
    "epos_piplus = []\n",
    "for i in range(len(piplus)):\n",
    "    epos_piplus.append(ROOT.TH1F(f2.Get(piplus[i])))\n",
    "    epos_piplus[i].SetDirectory(0)\n",
    "epos_piminus = []\n",
    "for i in range(len(piminus)):\n",
    "    epos_piminus.append(ROOT.TH1F(f2.Get(piminus[i])))\n",
    "    epos_piminus[i].SetDirectory(0)\n",
    "epos_kplus = []\n",
    "for i in range(len(kplus)):\n",
    "    epos_kplus.append(ROOT.TH1F(f2.Get(kplus[i])))\n",
    "    epos_kplus[i].SetDirectory(0)\n",
    "epos_kminus = []\n",
    "for i in range(len(kminus)):\n",
    "    epos_kminus.append(ROOT.TH1F(f2.Get(kminus[i])))\n",
    "    epos_kminus[i].SetDirectory(0)\n",
    "f2.Close()"
   ]
  },
  {
   "cell_type": "code",
   "execution_count": 5,
   "id": "bc584008-9dbd-4fe7-b1f7-892ba137df2b",
   "metadata": {},
   "outputs": [],
   "source": [
    "f3 = ROOT.TFile.Open(\"AMPTspectrum.root\")\n",
    "nparta = TH1F(f3.Get(\"hnpart\"))\n",
    "nparta.Rebin(4)\n",
    "nparta.Scale(1.0/(4*nparta.GetEntries()))\n",
    "nparta.SetDirectory(0)\n",
    "protons = [\"hprotonpt_0\", \"hprotonpt_1\", \"hprotonpt_2\", \"hprotonpt_3\", \"hprotonpt_4\"]\n",
    "antiprotons = [\"hprotonbarpt_0\", \"hprotonbarpt_1\", \"hprotonbarpt_2\", \"hprotonbarpt_3\", \"hprotonbarpt_4\"]\n",
    "piplus = [\"hpipluspt_0\", \"hpipluspt_1\", \"hpipluspt_2\", \"hpipluspt_3\", \"hpipluspt_4\"]\n",
    "piminus = [\"hpiminuspt_0\", \"hpiminuspt_1\", \"hpiminuspt_2\", \"hpiminuspt_3\", \"hpiminuspt_4\"]\n",
    "kplus = [\"hkpluspt_0\", \"hkpluspt_1\", \"hkpluspt_2\", \"hkpluspt_3\", \"hkpluspt_4\"]\n",
    "kminus = [\"hkminuspt_0\", \"hkminuspt_1\", \"hkminuspt_2\", \"hkminuspt_3\", \"hkminuspt_4\"]\n",
    "ampt_proton = []\n",
    "for i in range(len(protons)):\n",
    "    ampt_proton.append(ROOT.TH1F(f3.Get(protons[i])))\n",
    "    ampt_proton[i].SetDirectory(0)\n",
    "ampt_antiproton = []\n",
    "for i in range(len(antiprotons)):\n",
    "    ampt_antiproton.append(ROOT.TH1F(f3.Get(antiprotons[i])))\n",
    "    ampt_antiproton[i].SetDirectory(0)\n",
    "ampt_piplus = []\n",
    "for i in range(len(piplus)):\n",
    "    ampt_piplus.append(ROOT.TH1F(f3.Get(piplus[i])))\n",
    "    ampt_piplus[i].SetDirectory(0)\n",
    "ampt_piminus = []\n",
    "for i in range(len(piminus)):\n",
    "    ampt_piminus.append(ROOT.TH1F(f3.Get(piminus[i])))\n",
    "    ampt_piminus[i].SetDirectory(0)\n",
    "ampt_kplus = []\n",
    "for i in range(len(kplus)):\n",
    "    ampt_kplus.append(ROOT.TH1F(f3.Get(kplus[i])))\n",
    "    ampt_kplus[i].SetDirectory(0)\n",
    "ampt_kminus = []\n",
    "for i in range(len(kminus)):\n",
    "    ampt_kminus.append(ROOT.TH1F(f3.Get(kminus[i])))\n",
    "    ampt_kminus[i].SetDirectory(0)\n",
    "f3.Close()"
   ]
  },
  {
   "cell_type": "code",
   "execution_count": 6,
   "id": "d7cc6a94-54f8-494a-b398-21c42e61533f",
   "metadata": {},
   "outputs": [
    {
     "name": "stderr",
     "output_type": "stream",
     "text": [
      "python ERROR: cannot open image file \"/sphenix/u/egm2153/spring_2024/results_2_8/npart_epos_hijing_ampt.png\" for writing. Please check permissions.\n",
      "Error in <TASImage::WriteImage>: error writing file /sphenix/u/egm2153/spring_2024/results_2_8/npart_epos_hijing_ampt.png\n",
      "Info in <TCanvas::Print>: png file /sphenix/u/egm2153/spring_2024/results_2_8/npart_epos_hijing_ampt.png has been created\n"
     ]
    },
    {
     "data": {
      "image/png": "[encoded data removed]",
      "text/plain": [
       "<IPython.core.display.Image object>"
      ]
     },
     "metadata": {},
     "output_type": "display_data"
    }
   ],
   "source": [
    "canvas = TCanvas(\"canvas\",\"\",700,500)\n",
    "leg = ROOT.TLegend(.16,.75,.7,.89)\n",
    "leg.AddEntry(nparth,\"Hijing\",\"lep\")\n",
    "leg.AddEntry(nparte,\"EPOS\",\"lep\")\n",
    "leg.AddEntry(nparta,\"AMPT\",\"lep\")\n",
    "leg.SetBorderSize(0)\n",
    "nparth.SetLineColor(1)\n",
    "nparte.SetLineColor(2)\n",
    "nparta.SetLineColor(4)\n",
    "nparth.SetStats(0)\n",
    "nparte.SetStats(0)\n",
    "nparta.SetStats(0)\n",
    "nparth.SetXTitle(\"N_{part}\")\n",
    "nparth.Draw()\n",
    "nparte.Draw('same')\n",
    "nparta.Draw('same')\n",
    "leg.Draw()\n",
    "canvas.SetLogy(1)\n",
    "canvas.Draw()\n",
    "canvas.SaveAs('/sphenix/u/egm2153/spring_2024/results_2_8/npart_epos_hijing_ampt.png')"
   ]
  },
  {
   "cell_type": "code",
   "execution_count": 10,
   "id": "f46bf02e-b03e-4e49-b820-0c658a2e0a13",
   "metadata": {},
   "outputs": [],
   "source": [
    "ratio = []\n",
    "r0 = TH1F(hijing_proton[0].Clone(\"r0\"))\n",
    "r0.Divide(hijing_piplus[0])\n",
    "ratio.append(r0)\n",
    "r1 = TH1F(hijing_proton[1].Clone(\"r1\"))\n",
    "r1.Divide(hijing_piplus[1])\n",
    "ratio.append(r1)\n",
    "r2 = TH1F(hijing_proton[2].Clone(\"r2\"))\n",
    "r2.Divide(hijing_piplus[2])\n",
    "ratio.append(r2)\n",
    "r3 = TH1F(hijing_proton[3].Clone(\"r3\"))\n",
    "r3.Divide(hijing_piplus[3])\n",
    "ratio.append(r3)\n",
    "r4 = TH1F(hijing_proton[4].Clone(\"r4\"))\n",
    "r4.Divide(hijing_piplus[4])\n",
    "ratio.append(r4)"
   ]
  },
  {
   "cell_type": "code",
   "execution_count": 11,
   "id": "109922ac-a773-489f-a1f4-17feba71db6b",
   "metadata": {},
   "outputs": [
    {
     "name": "stderr",
     "output_type": "stream",
     "text": [
      "Warning in <TROOT::Append>: Replacing existing TH1: blank (Potential memory leak).\n"
     ]
    }
   ],
   "source": [
    "blank = ROOT.TH1F(\"blank\",\"\",100,0,100)"
   ]
  },
  {
   "cell_type": "code",
   "execution_count": 12,
   "id": "db5501b7-b69e-48c8-bae8-9f10377edc3c",
   "metadata": {},
   "outputs": [
    {
     "name": "stderr",
     "output_type": "stream",
     "text": [
      "Warning in <TCanvas::Constructor>: Deleting canvas with same name: canvas\n",
      "python ERROR: cannot open image file \"/sphenix/u/egm2153/spring_2024/results_2_8/p_pi_ratio_hijing.png\" for writing. Please check permissions.\n",
      "Error in <TASImage::WriteImage>: error writing file /sphenix/u/egm2153/spring_2024/results_2_8/p_pi_ratio_hijing.png\n",
      "Info in <TCanvas::Print>: png file /sphenix/u/egm2153/spring_2024/results_2_8/p_pi_ratio_hijing.png has been created\n"
     ]
    },
    {
     "data": {
      "image/png": "[encoded data removed]",
      "text/plain": [
       "<IPython.core.display.Image object>"
      ]
     },
     "metadata": {},
     "output_type": "display_data"
    }
   ],
   "source": [
    "canvas = TCanvas(\"canvas\",\"\",300,270)\n",
    "leg = ROOT.TLegend(.16,.55,.5,.89)\n",
    "blank.SetStats(0)\n",
    "blank.GetXaxis().SetRangeUser(0,3)\n",
    "blank.GetYaxis().SetRangeUser(0,1)\n",
    "blank.SetXTitle(\"pT [GeV]\")\n",
    "blank.Draw()\n",
    "leg.AddEntry(\"\",\"HIJING p/#pi+\",\"\")\n",
    "leg.SetBorderSize(0)\n",
    "cent_list = [\"0-10%\",\"10-20%\",\"20-40%\",\"40-60%\",\"60-92%\"]\n",
    "for i in range(len(hijing_proton)):\n",
    "    leg.AddEntry(ratio[i],cent_list[i],\"lep\")\n",
    "    if i == 4:\n",
    "        ratio[i].SetLineColor(i+2)\n",
    "        ratio[i].SetMarkerColor(i+2)\n",
    "    else:\n",
    "        ratio[i].SetLineColor(i+1)\n",
    "        ratio[i].SetMarkerColor(i+1)\n",
    "    ratio[i].SetStats(0)\n",
    "    ratio[i].Draw(\"same\")\n",
    "leg.Draw()\n",
    "canvas.SetLogy(0)\n",
    "canvas.Draw()\n",
    "canvas.SaveAs('/sphenix/u/egm2153/spring_2024/results_2_8/p_pi_ratio_hijing.png')"
   ]
  },
  {
   "cell_type": "code",
   "execution_count": 32,
   "id": "39342306-356c-42aa-8666-29fdb49bb4c9",
   "metadata": {},
   "outputs": [],
   "source": [
    "ratio = []\n",
    "r0 = TH1F(epos_proton[0].Clone(\"r0\"))\n",
    "r0.Divide(epos_piplus[0])\n",
    "ratio.append(r0)\n",
    "r1 = TH1F(epos_proton[1].Clone(\"r1\"))\n",
    "r1.Divide(epos_piplus[1])\n",
    "ratio.append(r1)\n",
    "r2 = TH1F(epos_proton[2].Clone(\"r2\"))\n",
    "r2.Divide(epos_piplus[2])\n",
    "ratio.append(r2)\n",
    "r3 = TH1F(epos_proton[3].Clone(\"r3\"))\n",
    "r3.Divide(epos_piplus[3])\n",
    "ratio.append(r3)\n",
    "r4 = TH1F(epos_proton[4].Clone(\"r4\"))\n",
    "r4.Divide(epos_piplus[4])\n",
    "ratio.append(r4)"
   ]
  },
  {
   "cell_type": "code",
   "execution_count": 33,
   "id": "584ad870-e0d8-49a6-91e6-f346aeb377a8",
   "metadata": {},
   "outputs": [
    {
     "name": "stderr",
     "output_type": "stream",
     "text": [
      "Warning in <TCanvas::Constructor>: Deleting canvas with same name: canvas\n",
      "Info in <TCanvas::Print>: png file /sphenix/u/egm2153/spring_2024/results_2_8/p_pi_ratio_epos.png has been created\n"
     ]
    },
    {
     "data": {
      "image/png": "[encoded data removed]",
      "text/plain": [
       "<IPython.core.display.Image object>"
      ]
     },
     "metadata": {},
     "output_type": "display_data"
    }
   ],
   "source": [
    "canvas = TCanvas(\"canvas\",\"\",300,270)\n",
    "leg = ROOT.TLegend(.16,.55,.5,.89)\n",
    "blank.SetStats(0)\n",
    "blank.GetXaxis().SetRangeUser(0,3)\n",
    "blank.GetYaxis().SetRangeUser(0,1.0)\n",
    "blank.SetXTitle(\"pT [GeV]\")\n",
    "blank.Draw()\n",
    "leg.AddEntry(\"\",\"EPOS p/#pi+\",\"\")\n",
    "leg.SetBorderSize(0)\n",
    "cent_list = [\"0-10%\",\"10-20%\",\"20-40%\",\"40-60%\",\"60-92%\"]\n",
    "for i in range(len(hijing_proton)):\n",
    "    leg.AddEntry(ratio[i],cent_list[i],\"lep\")\n",
    "    if i == 4:\n",
    "        ratio[i].SetLineColor(i+2)\n",
    "        ratio[i].SetMarkerColor(i+2)\n",
    "    else:\n",
    "        ratio[i].SetLineColor(i+1)\n",
    "        ratio[i].SetMarkerColor(i+1)\n",
    "    ratio[i].SetStats(0)\n",
    "    ratio[i].Draw(\"same\")\n",
    "leg.Draw()\n",
    "canvas.SetLogy(0)\n",
    "canvas.Draw()\n",
    "canvas.SaveAs('/sphenix/u/egm2153/spring_2024/results_2_8/p_pi_ratio_epos.png')"
   ]
  },
  {
   "cell_type": "code",
   "execution_count": 34,
   "id": "32d176ad-5f56-4b2b-bd53-18286bfa4c2f",
   "metadata": {},
   "outputs": [],
   "source": [
    "ratio = []\n",
    "r0 = TH1F(ampt_proton[0].Clone(\"r0\"))\n",
    "r0.Divide(ampt_piplus[0])\n",
    "ratio.append(r0)\n",
    "r1 = TH1F(ampt_proton[1].Clone(\"r1\"))\n",
    "r1.Divide(ampt_piplus[1])\n",
    "ratio.append(r1)\n",
    "r2 = TH1F(ampt_proton[2].Clone(\"r2\"))\n",
    "r2.Divide(ampt_piplus[2])\n",
    "ratio.append(r2)\n",
    "r3 = TH1F(ampt_proton[3].Clone(\"r3\"))\n",
    "r3.Divide(ampt_piplus[3])\n",
    "ratio.append(r3)\n",
    "r4 = TH1F(ampt_proton[4].Clone(\"r4\"))\n",
    "r4.Divide(ampt_piplus[4])\n",
    "ratio.append(r4)"
   ]
  },
  {
   "cell_type": "code",
   "execution_count": 35,
   "id": "4436ef56-d746-4fe5-a277-9211f08ca1d5",
   "metadata": {},
   "outputs": [
    {
     "name": "stderr",
     "output_type": "stream",
     "text": [
      "Warning in <TCanvas::Constructor>: Deleting canvas with same name: canvas\n",
      "Info in <TCanvas::Print>: png file /sphenix/u/egm2153/spring_2024/results_2_8/p_pi_ratio_ampt.png has been created\n"
     ]
    },
    {
     "data": {
      "image/png": "[encoded data removed]",
      "text/plain": [
       "<IPython.core.display.Image object>"
      ]
     },
     "metadata": {},
     "output_type": "display_data"
    }
   ],
   "source": [
    "canvas = TCanvas(\"canvas\",\"\",300,270)\n",
    "leg = ROOT.TLegend(.16,.55,.5,.89)\n",
    "blank.SetStats(0)\n",
    "blank.GetXaxis().SetRangeUser(0,3)\n",
    "blank.GetYaxis().SetRangeUser(0,1.0)\n",
    "blank.SetXTitle(\"pT [GeV]\")\n",
    "blank.Draw()\n",
    "leg.AddEntry(\"\",\"AMPT p/#pi+\",\"\")\n",
    "leg.SetBorderSize(0)\n",
    "cent_list = [\"0-10%\",\"10-20%\",\"20-40%\",\"40-60%\",\"60-92%\"]\n",
    "for i in range(len(ampt_proton)):\n",
    "    leg.AddEntry(ratio[i],cent_list[i],\"lep\")\n",
    "    if i == 4:\n",
    "        ratio[i].SetLineColor(i+2)\n",
    "        ratio[i].SetMarkerColor(i+2)\n",
    "    else:\n",
    "        ratio[i].SetLineColor(i+1)\n",
    "        ratio[i].SetMarkerColor(i+1)\n",
    "    ratio[i].SetStats(0)\n",
    "    ratio[i].Draw(\"same\")\n",
    "leg.Draw()\n",
    "canvas.SetLogy(0)\n",
    "canvas.Draw()\n",
    "canvas.SaveAs('/sphenix/u/egm2153/spring_2024/results_2_8/p_pi_ratio_ampt.png')"
   ]
  },
  {
   "cell_type": "code",
   "execution_count": 64,
   "id": "c0198098-8db4-4e3f-bfee-66e113887705",
   "metadata": {},
   "outputs": [],
   "source": [
    "ratio = []\n",
    "r0 = TH1F(hijing_antiproton[0].Clone(\"r0\"))\n",
    "r0.Divide(hijing_piminus[0])\n",
    "ratio.append(r0)\n",
    "r1 = TH1F(hijing_antiproton[1].Clone(\"r1\"))\n",
    "r1.Divide(hijing_piminus[1])\n",
    "ratio.append(r1)\n",
    "r2 = TH1F(hijing_antiproton[2].Clone(\"r2\"))\n",
    "r2.Divide(hijing_piminus[2])\n",
    "ratio.append(r2)\n",
    "r3 = TH1F(hijing_antiproton[3].Clone(\"r3\"))\n",
    "r3.Divide(hijing_piminus[3])\n",
    "ratio.append(r3)\n",
    "r4 = TH1F(hijing_antiproton[4].Clone(\"r4\"))\n",
    "r4.Divide(hijing_piminus[4])\n",
    "ratio.append(r4)"
   ]
  },
  {
   "cell_type": "code",
   "execution_count": 65,
   "id": "23809a39-56d5-4960-9c4b-9dfc6cb90c65",
   "metadata": {},
   "outputs": [
    {
     "name": "stderr",
     "output_type": "stream",
     "text": [
      "Warning in <TCanvas::Constructor>: Deleting canvas with same name: canvas\n",
      "Info in <TCanvas::Print>: png file /sphenix/u/egm2153/spring_2024/results_2_8/pbar_pi_ratio_hijing.png has been created\n"
     ]
    },
    {
     "data": {
      "image/png": "[encoded data removed]",
      "text/plain": [
       "<IPython.core.display.Image object>"
      ]
     },
     "metadata": {},
     "output_type": "display_data"
    }
   ],
   "source": [
    "canvas = TCanvas(\"canvas\",\"\",300,270)\n",
    "leg = ROOT.TLegend(.16,.55,.5,.89)\n",
    "blank.SetStats(0)\n",
    "blank.GetXaxis().SetRangeUser(0,3)\n",
    "blank.GetYaxis().SetRangeUser(0,1.0)\n",
    "blank.SetXTitle(\"pT [GeV]\")\n",
    "blank.Draw()\n",
    "leg.AddEntry(\"\",\"HIJING #bar{p}/#pi-\",\"\")\n",
    "leg.SetBorderSize(0)\n",
    "cent_list = [\"0-10%\",\"10-20%\",\"20-40%\",\"40-60%\",\"60-92%\"]\n",
    "for i in range(len(hijing_proton)):\n",
    "    leg.AddEntry(ratio[i],cent_list[i],\"lep\")\n",
    "    if i == 4:\n",
    "        ratio[i].SetLineColor(i+2)\n",
    "        ratio[i].SetMarkerColor(i+2)\n",
    "    else:\n",
    "        ratio[i].SetLineColor(i+1)\n",
    "        ratio[i].SetMarkerColor(i+1)\n",
    "    ratio[i].SetStats(0)\n",
    "    ratio[i].Draw(\"same\")\n",
    "leg.Draw()\n",
    "canvas.SetLogy(0)\n",
    "canvas.Draw()\n",
    "canvas.SaveAs('/sphenix/u/egm2153/spring_2024/results_2_8/pbar_pi_ratio_hijing.png')"
   ]
  },
  {
   "cell_type": "code",
   "execution_count": 38,
   "id": "523e745b-450c-4148-a031-27483d08f4f3",
   "metadata": {},
   "outputs": [],
   "source": [
    "ratio = []\n",
    "r0 = TH1F(ampt_antiproton[0].Clone(\"r0\"))\n",
    "r0.Divide(ampt_piminus[0])\n",
    "ratio.append(r0)\n",
    "r1 = TH1F(ampt_antiproton[1].Clone(\"r1\"))\n",
    "r1.Divide(ampt_piminus[1])\n",
    "ratio.append(r1)\n",
    "r2 = TH1F(ampt_antiproton[2].Clone(\"r2\"))\n",
    "r2.Divide(ampt_piminus[2])\n",
    "ratio.append(r2)\n",
    "r3 = TH1F(ampt_antiproton[3].Clone(\"r3\"))\n",
    "r3.Divide(ampt_piminus[3])\n",
    "ratio.append(r3)\n",
    "r4 = TH1F(ampt_antiproton[4].Clone(\"r4\"))\n",
    "r4.Divide(ampt_piminus[4])\n",
    "ratio.append(r4)"
   ]
  },
  {
   "cell_type": "code",
   "execution_count": 39,
   "id": "d94207a8-b3a4-40a1-9c4b-c4fca9b0ad07",
   "metadata": {},
   "outputs": [
    {
     "name": "stderr",
     "output_type": "stream",
     "text": [
      "Warning in <TCanvas::Constructor>: Deleting canvas with same name: canvas\n",
      "Info in <TCanvas::Print>: png file /sphenix/u/egm2153/spring_2024/results_2_8/pbar_pi_ratio_ampt.png has been created\n"
     ]
    },
    {
     "data": {
      "image/png": "[encoded data removed]",
      "text/plain": [
       "<IPython.core.display.Image object>"
      ]
     },
     "metadata": {},
     "output_type": "display_data"
    }
   ],
   "source": [
    "canvas = TCanvas(\"canvas\",\"\",300,270)\n",
    "leg = ROOT.TLegend(.16,.55,.5,.89)\n",
    "blank.SetStats(0)\n",
    "blank.GetXaxis().SetRangeUser(0,3)\n",
    "blank.GetYaxis().SetRangeUser(0,1.0)\n",
    "blank.SetXTitle(\"pT [GeV]\")\n",
    "blank.Draw()\n",
    "leg.AddEntry(\"\",\"AMPT #bar{p}/#pi-\",\"\")\n",
    "leg.SetBorderSize(0)\n",
    "cent_list = [\"0-10%\",\"10-20%\",\"20-40%\",\"40-60%\",\"60-92%\"]\n",
    "for i in range(len(ampt_proton)):\n",
    "    leg.AddEntry(ratio[i],cent_list[i],\"lep\")\n",
    "    if i == 4:\n",
    "        ratio[i].SetLineColor(i+2)\n",
    "        ratio[i].SetMarkerColor(i+2)\n",
    "    else:\n",
    "        ratio[i].SetLineColor(i+1)\n",
    "        ratio[i].SetMarkerColor(i+1)\n",
    "    ratio[i].SetStats(0)\n",
    "    ratio[i].Draw(\"same\")\n",
    "leg.Draw()\n",
    "canvas.SetLogy(0)\n",
    "canvas.Draw()\n",
    "canvas.SaveAs('/sphenix/u/egm2153/spring_2024/results_2_8/pbar_pi_ratio_ampt.png')"
   ]
  },
  {
   "cell_type": "code",
   "execution_count": 41,
   "id": "7fdf6328-5a06-438d-bd40-75a90773f62f",
   "metadata": {},
   "outputs": [],
   "source": [
    "ratio = []\n",
    "r0 = TH1F(epos_antiproton[0].Clone(\"r0\"))\n",
    "r0.Divide(epos_piminus[0])\n",
    "ratio.append(r0)\n",
    "r1 = TH1F(epos_antiproton[1].Clone(\"r1\"))\n",
    "r1.Divide(epos_piminus[1])\n",
    "ratio.append(r1)\n",
    "r2 = TH1F(epos_antiproton[2].Clone(\"r2\"))\n",
    "r2.Divide(epos_piminus[2])\n",
    "ratio.append(r2)\n",
    "r3 = TH1F(epos_antiproton[3].Clone(\"r3\"))\n",
    "r3.Divide(epos_piminus[3])\n",
    "ratio.append(r3)\n",
    "r4 = TH1F(epos_antiproton[4].Clone(\"r4\"))\n",
    "r4.Divide(epos_piminus[4])\n",
    "ratio.append(r4)"
   ]
  },
  {
   "cell_type": "code",
   "execution_count": 42,
   "id": "5b57b255-394b-4df6-bf8d-fae2401a1427",
   "metadata": {},
   "outputs": [
    {
     "name": "stderr",
     "output_type": "stream",
     "text": [
      "Warning in <TCanvas::Constructor>: Deleting canvas with same name: canvas\n",
      "Info in <TCanvas::Print>: png file /sphenix/u/egm2153/spring_2024/results_2_8/pbar_pi_ratio_epos.png has been created\n"
     ]
    },
    {
     "data": {
      "image/png": "[encoded data removed]",
      "text/plain": [
       "<IPython.core.display.Image object>"
      ]
     },
     "metadata": {},
     "output_type": "display_data"
    }
   ],
   "source": [
    "canvas = TCanvas(\"canvas\",\"\",300,270)\n",
    "leg = ROOT.TLegend(.16,.55,.5,.89)\n",
    "blank.SetStats(0)\n",
    "blank.GetXaxis().SetRangeUser(0,3)\n",
    "blank.GetYaxis().SetRangeUser(0,1.0)\n",
    "blank.SetXTitle(\"pT [GeV]\")\n",
    "blank.Draw()\n",
    "leg.AddEntry(\"\",\"EPOS #bar{p}/#pi-\",\"\")\n",
    "leg.SetBorderSize(0)\n",
    "cent_list = [\"0-10%\",\"10-20%\",\"20-40%\",\"40-60%\",\"60-92%\"]\n",
    "for i in range(len(hijing_proton)):\n",
    "    leg.AddEntry(ratio[i],cent_list[i],\"lep\")\n",
    "    if i == 4:\n",
    "        ratio[i].SetLineColor(i+2)\n",
    "        ratio[i].SetMarkerColor(i+2)\n",
    "    else:\n",
    "        ratio[i].SetLineColor(i+1)\n",
    "        ratio[i].SetMarkerColor(i+1)\n",
    "    ratio[i].SetStats(0)\n",
    "    ratio[i].Draw(\"same\")\n",
    "leg.Draw()\n",
    "canvas.SetLogy(0)\n",
    "canvas.Draw()\n",
    "canvas.SaveAs('/sphenix/u/egm2153/spring_2024/results_2_8/pbar_pi_ratio_epos.png')"
   ]
  },
  {
   "cell_type": "code",
   "execution_count": 156,
   "id": "f9fd7de1-53b0-40d2-bf56-f41387a26f80",
   "metadata": {},
   "outputs": [],
   "source": []
  },
  {
   "cell_type": "code",
   "execution_count": 156,
   "id": "c3fed45a-4852-4e2c-a10d-3f2f93c2c581",
   "metadata": {},
   "outputs": [],
   "source": []
  },
  {
   "cell_type": "code",
   "execution_count": 66,
   "id": "0260aa77-4564-4a8e-896e-e277abc1561a",
   "metadata": {},
   "outputs": [],
   "source": [
    "ratio = []\n",
    "r0 = TH1F(hijing_kplus[0].Clone(\"r0\"))\n",
    "r0.Divide(hijing_piplus[0])\n",
    "ratio.append(r0)\n",
    "r1 = TH1F(hijing_kplus[1].Clone(\"r1\"))\n",
    "r1.Divide(hijing_piplus[1])\n",
    "ratio.append(r1)\n",
    "r2 = TH1F(hijing_kplus[2].Clone(\"r2\"))\n",
    "r2.Divide(hijing_piplus[2])\n",
    "ratio.append(r2)\n",
    "r3 = TH1F(hijing_kplus[3].Clone(\"r3\"))\n",
    "r3.Divide(hijing_piplus[3])\n",
    "ratio.append(r3)\n",
    "r4 = TH1F(hijing_kplus[4].Clone(\"r4\"))\n",
    "r4.Divide(hijing_piplus[4])\n",
    "ratio.append(r4)"
   ]
  },
  {
   "cell_type": "code",
   "execution_count": 67,
   "id": "450400ce-636e-4b87-ad67-0b8027f547e3",
   "metadata": {},
   "outputs": [
    {
     "name": "stderr",
     "output_type": "stream",
     "text": [
      "Warning in <TCanvas::Constructor>: Deleting canvas with same name: canvas\n",
      "Info in <TCanvas::Print>: png file /sphenix/u/egm2153/spring_2024/results_2_8/k_pi_ratio_hijing.png has been created\n"
     ]
    },
    {
     "data": {
      "image/png": "[encoded data removed]",
      "text/plain": [
       "<IPython.core.display.Image object>"
      ]
     },
     "metadata": {},
     "output_type": "display_data"
    }
   ],
   "source": [
    "canvas = TCanvas(\"canvas\",\"\",300,270)\n",
    "leg = ROOT.TLegend(.16,.55,.5,.89)\n",
    "blank.SetStats(0)\n",
    "blank.GetXaxis().SetRangeUser(0,3)\n",
    "blank.GetYaxis().SetRangeUser(0,0.8)\n",
    "blank.SetXTitle(\"pT [GeV]\")\n",
    "blank.Draw()\n",
    "leg.AddEntry(\"\",\"HIJING K+/#pi+\",\"\")\n",
    "leg.SetBorderSize(0)\n",
    "cent_list = [\"0-10%\",\"10-20%\",\"20-40%\",\"40-60%\",\"60-92%\"]\n",
    "for i in range(len(hijing_proton)):\n",
    "    leg.AddEntry(ratio[i],cent_list[i],\"lep\")\n",
    "    if i == 4:\n",
    "        ratio[i].SetLineColor(i+2)\n",
    "        ratio[i].SetMarkerColor(i+2)\n",
    "    else:\n",
    "        ratio[i].SetLineColor(i+1)\n",
    "        ratio[i].SetMarkerColor(i+1)\n",
    "    ratio[i].SetStats(0)\n",
    "    ratio[i].Draw(\"same\")\n",
    "leg.Draw()\n",
    "canvas.SetLogy(0)\n",
    "canvas.Draw()\n",
    "canvas.SaveAs('/sphenix/u/egm2153/spring_2024/results_2_8/k_pi_ratio_hijing.png')"
   ]
  },
  {
   "cell_type": "code",
   "execution_count": 68,
   "id": "2b1e5db3-f622-4c4e-ad0c-af0be22f1457",
   "metadata": {},
   "outputs": [],
   "source": [
    "ratio = []\n",
    "r0 = TH1F(hijing_kminus[0].Clone(\"r0\"))\n",
    "r0.Divide(hijing_piminus[0])\n",
    "ratio.append(r0)\n",
    "r1 = TH1F(hijing_kminus[1].Clone(\"r1\"))\n",
    "r1.Divide(hijing_piminus[1])\n",
    "ratio.append(r1)\n",
    "r2 = TH1F(hijing_kminus[2].Clone(\"r2\"))\n",
    "r2.Divide(hijing_piminus[2])\n",
    "ratio.append(r2)\n",
    "r3 = TH1F(hijing_kminus[3].Clone(\"r3\"))\n",
    "r3.Divide(hijing_piminus[3])\n",
    "ratio.append(r3)\n",
    "r4 = TH1F(hijing_kminus[4].Clone(\"r4\"))\n",
    "r4.Divide(hijing_piminus[4])\n",
    "ratio.append(r4)"
   ]
  },
  {
   "cell_type": "code",
   "execution_count": 69,
   "id": "ca1d78ac-f56f-4f56-83f1-b0c556852224",
   "metadata": {},
   "outputs": [
    {
     "name": "stderr",
     "output_type": "stream",
     "text": [
      "Warning in <TCanvas::Constructor>: Deleting canvas with same name: canvas\n",
      "Info in <TCanvas::Print>: png file /sphenix/u/egm2153/spring_2024/results_2_8/k-_pi_ratio_hijing.png has been created\n"
     ]
    },
    {
     "data": {
      "image/png": "[encoded data removed]",
      "text/plain": [
       "<IPython.core.display.Image object>"
      ]
     },
     "metadata": {},
     "output_type": "display_data"
    }
   ],
   "source": [
    "canvas = TCanvas(\"canvas\",\"\",300,270)\n",
    "leg = ROOT.TLegend(.16,.55,.5,.89)\n",
    "blank.SetStats(0)\n",
    "blank.GetXaxis().SetRangeUser(0,3)\n",
    "blank.GetYaxis().SetRangeUser(0,0.8)\n",
    "blank.SetXTitle(\"pT [GeV]\")\n",
    "blank.Draw()\n",
    "leg.AddEntry(\"\",\"HIJING K-/#pi-\",\"\")\n",
    "leg.SetBorderSize(0)\n",
    "cent_list = [\"0-10%\",\"10-20%\",\"20-40%\",\"40-60%\",\"60-92%\"]\n",
    "for i in range(len(hijing_proton)):\n",
    "    leg.AddEntry(ratio[i],cent_list[i],\"lep\")\n",
    "    if i == 4:\n",
    "        ratio[i].SetLineColor(i+2)\n",
    "        ratio[i].SetMarkerColor(i+2)\n",
    "    else:\n",
    "        ratio[i].SetLineColor(i+1)\n",
    "        ratio[i].SetMarkerColor(i+1)\n",
    "    ratio[i].SetStats(0)\n",
    "    ratio[i].Draw(\"same\")\n",
    "leg.Draw()\n",
    "canvas.SetLogy(0)\n",
    "canvas.Draw()\n",
    "canvas.SaveAs('/sphenix/u/egm2153/spring_2024/results_2_8/k-_pi_ratio_hijing.png')"
   ]
  },
  {
   "cell_type": "code",
   "execution_count": 50,
   "id": "77d4f8a8-2ea9-4f04-aa49-d35a75e4aaa6",
   "metadata": {},
   "outputs": [],
   "source": [
    "ratio = []\n",
    "r0 = TH1F(ampt_kplus[0].Clone(\"r0\"))\n",
    "r0.Divide(ampt_piplus[0])\n",
    "ratio.append(r0)\n",
    "r1 = TH1F(ampt_kplus[1].Clone(\"r1\"))\n",
    "r1.Divide(ampt_piplus[1])\n",
    "ratio.append(r1)\n",
    "r2 = TH1F(ampt_kplus[2].Clone(\"r2\"))\n",
    "r2.Divide(ampt_piplus[2])\n",
    "ratio.append(r2)\n",
    "r3 = TH1F(ampt_kplus[3].Clone(\"r3\"))\n",
    "r3.Divide(ampt_piplus[3])\n",
    "ratio.append(r3)\n",
    "r4 = TH1F(ampt_kplus[4].Clone(\"r4\"))\n",
    "r4.Divide(ampt_piplus[4])\n",
    "ratio.append(r4)"
   ]
  },
  {
   "cell_type": "code",
   "execution_count": 51,
   "id": "693bac90-7451-40b6-8b51-9139c354344c",
   "metadata": {},
   "outputs": [
    {
     "name": "stderr",
     "output_type": "stream",
     "text": [
      "Warning in <TCanvas::Constructor>: Deleting canvas with same name: canvas\n",
      "Info in <TCanvas::Print>: png file /sphenix/u/egm2153/spring_2024/results_2_8/k+_pi_ratio_ampt.png has been created\n"
     ]
    },
    {
     "data": {
      "image/png": "[encoded data removed]",
      "text/plain": [
       "<IPython.core.display.Image object>"
      ]
     },
     "metadata": {},
     "output_type": "display_data"
    }
   ],
   "source": [
    "canvas = TCanvas(\"canvas\",\"\",300,270)\n",
    "leg = ROOT.TLegend(.16,.55,.5,.89)\n",
    "blank.SetStats(0)\n",
    "blank.GetXaxis().SetRangeUser(0,3)\n",
    "blank.GetYaxis().SetRangeUser(0,0.8)\n",
    "blank.SetXTitle(\"pT [GeV]\")\n",
    "blank.Draw()\n",
    "leg.AddEntry(\"\",\"AMPT K+/#pi+\",\"\")\n",
    "leg.SetBorderSize(0)\n",
    "cent_list = [\"0-10%\",\"10-20%\",\"20-40%\",\"40-60%\",\"60-92%\"]\n",
    "for i in range(len(ampt_proton)):\n",
    "    leg.AddEntry(ratio[i],cent_list[i],\"lep\")\n",
    "    if i == 4:\n",
    "        ratio[i].SetLineColor(i+2)\n",
    "        ratio[i].SetMarkerColor(i+2)\n",
    "    else:\n",
    "        ratio[i].SetLineColor(i+1)\n",
    "        ratio[i].SetMarkerColor(i+1)\n",
    "    ratio[i].SetStats(0)\n",
    "    ratio[i].Draw(\"same\")\n",
    "leg.Draw()\n",
    "canvas.SetLogy(0)\n",
    "canvas.Draw()\n",
    "canvas.SaveAs('/sphenix/u/egm2153/spring_2024/results_2_8/k+_pi_ratio_ampt.png')"
   ]
  },
  {
   "cell_type": "code",
   "execution_count": 52,
   "id": "2bf2a93f-15a4-4b57-8352-72c79e18a815",
   "metadata": {},
   "outputs": [],
   "source": [
    "ratio = []\n",
    "r0 = TH1F(epos_kplus[0].Clone(\"r0\"))\n",
    "r0.Divide(epos_piplus[0])\n",
    "ratio.append(r0)\n",
    "r1 = TH1F(epos_kplus[1].Clone(\"r1\"))\n",
    "r1.Divide(epos_piplus[1])\n",
    "ratio.append(r1)\n",
    "r2 = TH1F(epos_kplus[2].Clone(\"r2\"))\n",
    "r2.Divide(epos_piplus[2])\n",
    "ratio.append(r2)\n",
    "r3 = TH1F(epos_kplus[3].Clone(\"r3\"))\n",
    "r3.Divide(epos_piplus[3])\n",
    "ratio.append(r3)\n",
    "r4 = TH1F(epos_kplus[4].Clone(\"r4\"))\n",
    "r4.Divide(epos_piplus[4])\n",
    "ratio.append(r4)"
   ]
  },
  {
   "cell_type": "code",
   "execution_count": 53,
   "id": "403fb667-37de-45ff-a865-f94ed7b39052",
   "metadata": {},
   "outputs": [
    {
     "name": "stderr",
     "output_type": "stream",
     "text": [
      "Warning in <TCanvas::Constructor>: Deleting canvas with same name: canvas\n",
      "Info in <TCanvas::Print>: png file /sphenix/u/egm2153/spring_2024/results_2_8/k+_pi_ratio_epos.png has been created\n"
     ]
    },
    {
     "data": {
      "image/png": "[encoded data removed]",
      "text/plain": [
       "<IPython.core.display.Image object>"
      ]
     },
     "metadata": {},
     "output_type": "display_data"
    }
   ],
   "source": [
    "canvas = TCanvas(\"canvas\",\"\",300,270)\n",
    "leg = ROOT.TLegend(.16,.55,.5,.89)\n",
    "blank.SetStats(0)\n",
    "blank.GetXaxis().SetRangeUser(0,3)\n",
    "blank.GetYaxis().SetRangeUser(0,0.8)\n",
    "blank.SetXTitle(\"pT [GeV]\")\n",
    "blank.Draw()\n",
    "leg.AddEntry(\"\",\"EPOS K+/#pi+\",\"\")\n",
    "leg.SetBorderSize(0)\n",
    "cent_list = [\"0-10%\",\"10-20%\",\"20-40%\",\"40-60%\",\"60-92%\"]\n",
    "for i in range(len(hijing_proton)):\n",
    "    leg.AddEntry(ratio[i],cent_list[i],\"lep\")\n",
    "    if i == 4:\n",
    "        ratio[i].SetLineColor(i+2)\n",
    "        ratio[i].SetMarkerColor(i+2)\n",
    "    else:\n",
    "        ratio[i].SetLineColor(i+1)\n",
    "        ratio[i].SetMarkerColor(i+1)\n",
    "    ratio[i].SetStats(0)\n",
    "    ratio[i].Draw(\"same\")\n",
    "leg.Draw()\n",
    "canvas.SetLogy(0)\n",
    "canvas.Draw()\n",
    "canvas.SaveAs('/sphenix/u/egm2153/spring_2024/results_2_8/k+_pi_ratio_epos.png')"
   ]
  },
  {
   "cell_type": "code",
   "execution_count": 54,
   "id": "59149d2a-e8e2-4243-aaa2-2ec219576b06",
   "metadata": {},
   "outputs": [],
   "source": [
    "ratio = []\n",
    "r0 = TH1F(epos_kminus[0].Clone(\"r0\"))\n",
    "r0.Divide(epos_piminus[0])\n",
    "ratio.append(r0)\n",
    "r1 = TH1F(epos_kminus[1].Clone(\"r1\"))\n",
    "r1.Divide(epos_piminus[1])\n",
    "ratio.append(r1)\n",
    "r2 = TH1F(epos_kminus[2].Clone(\"r2\"))\n",
    "r2.Divide(epos_piminus[2])\n",
    "ratio.append(r2)\n",
    "r3 = TH1F(epos_kminus[3].Clone(\"r3\"))\n",
    "r3.Divide(epos_piminus[3])\n",
    "ratio.append(r3)\n",
    "r4 = TH1F(epos_kminus[4].Clone(\"r4\"))\n",
    "r4.Divide(epos_piminus[4])\n",
    "ratio.append(r4)"
   ]
  },
  {
   "cell_type": "code",
   "execution_count": 55,
   "id": "354ab15e-f219-4ed1-9ef4-846ef2e11780",
   "metadata": {},
   "outputs": [
    {
     "name": "stderr",
     "output_type": "stream",
     "text": [
      "Warning in <TCanvas::Constructor>: Deleting canvas with same name: canvas\n",
      "Info in <TCanvas::Print>: png file /sphenix/u/egm2153/spring_2024/results_2_8/k-_pi_ratio_epos.png has been created\n"
     ]
    },
    {
     "data": {
      "image/png": "[encoded data removed]",
      "text/plain": [
       "<IPython.core.display.Image object>"
      ]
     },
     "metadata": {},
     "output_type": "display_data"
    }
   ],
   "source": [
    "canvas = TCanvas(\"canvas\",\"\",300,270)\n",
    "leg = ROOT.TLegend(.16,.55,.5,.89)\n",
    "blank.SetStats(0)\n",
    "blank.GetXaxis().SetRangeUser(0,3)\n",
    "blank.GetYaxis().SetRangeUser(0,0.8)\n",
    "blank.SetXTitle(\"pT [GeV]\")\n",
    "blank.Draw()\n",
    "leg.AddEntry(\"\",\"EPOS K-/#pi-\",\"\")\n",
    "leg.SetBorderSize(0)\n",
    "cent_list = [\"0-10%\",\"10-20%\",\"20-40%\",\"40-60%\",\"60-92%\"]\n",
    "for i in range(len(hijing_proton)):\n",
    "    leg.AddEntry(ratio[i],cent_list[i],\"lep\")\n",
    "    if i == 4:\n",
    "        ratio[i].SetLineColor(i+2)\n",
    "        ratio[i].SetMarkerColor(i+2)\n",
    "    else:\n",
    "        ratio[i].SetLineColor(i+1)\n",
    "        ratio[i].SetMarkerColor(i+1)\n",
    "    ratio[i].SetStats(0)\n",
    "    ratio[i].Draw(\"same\")\n",
    "leg.Draw()\n",
    "canvas.SetLogy(0)\n",
    "canvas.Draw()\n",
    "canvas.SaveAs('/sphenix/u/egm2153/spring_2024/results_2_8/k-_pi_ratio_epos.png')"
   ]
  },
  {
   "cell_type": "code",
   "execution_count": 57,
   "id": "816eb280-6274-4b15-88af-266ad966e203",
   "metadata": {},
   "outputs": [],
   "source": [
    "ratio = []\n",
    "r0 = TH1F(ampt_kminus[0].Clone(\"r0\"))\n",
    "r0.Divide(ampt_piminus[0])\n",
    "ratio.append(r0)\n",
    "r1 = TH1F(ampt_kminus[1].Clone(\"r1\"))\n",
    "r1.Divide(ampt_piminus[1])\n",
    "ratio.append(r1)\n",
    "r2 = TH1F(ampt_kminus[2].Clone(\"r2\"))\n",
    "r2.Divide(ampt_piminus[2])\n",
    "ratio.append(r2)\n",
    "r3 = TH1F(ampt_kminus[3].Clone(\"r3\"))\n",
    "r3.Divide(ampt_piminus[3])\n",
    "ratio.append(r3)\n",
    "r4 = TH1F(ampt_kminus[4].Clone(\"r4\"))\n",
    "r4.Divide(ampt_piminus[4])\n",
    "ratio.append(r4)"
   ]
  },
  {
   "cell_type": "code",
   "execution_count": 58,
   "id": "fbb902ae-5dbb-4d98-8cc3-ad43a58e04e7",
   "metadata": {},
   "outputs": [
    {
     "name": "stderr",
     "output_type": "stream",
     "text": [
      "Warning in <TCanvas::Constructor>: Deleting canvas with same name: canvas\n",
      "Info in <TCanvas::Print>: png file /sphenix/u/egm2153/spring_2024/results_2_8/k-_pi_ratio_ampt.png has been created\n"
     ]
    },
    {
     "data": {
      "image/png": "[encoded data removed]",
      "text/plain": [
       "<IPython.core.display.Image object>"
      ]
     },
     "metadata": {},
     "output_type": "display_data"
    }
   ],
   "source": [
    "canvas = TCanvas(\"canvas\",\"\",300,270)\n",
    "leg = ROOT.TLegend(.16,.55,.5,.89)\n",
    "blank.SetStats(0)\n",
    "blank.GetXaxis().SetRangeUser(0,3)\n",
    "blank.GetYaxis().SetRangeUser(0,0.8)\n",
    "blank.SetXTitle(\"pT [GeV]\")\n",
    "blank.Draw()\n",
    "leg.AddEntry(\"\",\"AMPT K-/#pi-\",\"\")\n",
    "leg.SetBorderSize(0)\n",
    "cent_list = [\"0-10%\",\"10-20%\",\"20-40%\",\"40-60%\",\"60-92%\"]\n",
    "for i in range(len(hijing_proton)):\n",
    "    leg.AddEntry(ratio[i],cent_list[i],\"lep\")\n",
    "    if i == 4:\n",
    "        ratio[i].SetLineColor(i+2)\n",
    "        ratio[i].SetMarkerColor(i+2)\n",
    "    else:\n",
    "        ratio[i].SetLineColor(i+1)\n",
    "        ratio[i].SetMarkerColor(i+1)\n",
    "    ratio[i].SetStats(0)\n",
    "    ratio[i].Draw(\"same\")\n",
    "leg.Draw()\n",
    "canvas.SetLogy(0)\n",
    "canvas.Draw()\n",
    "canvas.SaveAs('/sphenix/u/egm2153/spring_2024/results_2_8/k-_pi_ratio_ampt.png')"
   ]
  },
  {
   "cell_type": "code",
   "execution_count": null,
   "id": "a7c9a560-1dea-4855-b3eb-c3567eeaadb0",
   "metadata": {},
   "outputs": [],
   "source": []
  }
 ],
 "metadata": {
  "kernelspec": {
   "display_name": "Python (sPHENIX)",
   "language": "python",
   "name": "sphenix-env"
  },
  "language_info": {
   "codemirror_mode": {
    "name": "ipython",
    "version": 3
   },
   "file_extension": ".py",
   "mimetype": "text/x-python",
   "name": "python",
   "nbconvert_exporter": "python",
   "pygments_lexer": "ipython3",
   "version": "3.10.8"
  }
 },
 "nbformat": 4,
 "nbformat_minor": 5
}
